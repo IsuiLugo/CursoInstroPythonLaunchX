{
 "cells": [
  {
   "cell_type": "markdown",
   "metadata": {},
   "source": [
    "# Kata 6 🚀\n",
    "### Crear y usar listas de Python\n",
    "Ejercicio 1 👨‍🚀"
   ]
  },
  {
   "cell_type": "code",
   "execution_count": 2,
   "metadata": {},
   "outputs": [
    {
     "name": "stdout",
     "output_type": "stream",
     "text": [
      "Hay estos 6  planetas\n",
      "Neptuno  es un planeta\n"
     ]
    }
   ],
   "source": [
    "planets = ['Mecurio','Venus','Earth','Mars','Jupiter','Saturn']\n",
    "print('Hay estos', len(planets), ' planetas')\n",
    "\n",
    "planets.append('Neptuno')\n",
    "print(planets[-1], ' es un planeta')"
   ]
  },
  {
   "cell_type": "markdown",
   "metadata": {},
   "source": [
    "Ejercicio 2 👨‍🚀"
   ]
  },
  {
   "cell_type": "code",
   "execution_count": 3,
   "metadata": {},
   "outputs": [
    {
     "name": "stdout",
     "output_type": "stream",
     "text": [
      "Los planetas más cercanos al sol que Mars\n",
      "['Mercurio', 'Venus', 'Earth']\n",
      "Los planetas más lejanos al Sol que Mars\n",
      "['Jupiter', 'Saturno']\n"
     ]
    }
   ],
   "source": [
    "planetas = ['Mercurio','Venus','Earth','Mars','Jupiter','Saturno']\n",
    "buscarPlaneta = input(\"Ingresa el nombre del planeta\");\n",
    "\n",
    "indicePlanetas = planetas.index(buscarPlaneta)\n",
    "print(\"Los planetas más cercanos al sol que \"+buscarPlaneta)\n",
    "print(planetas[0:indicePlanetas])\n",
    "\n",
    "print(\"Los planetas más lejanos al Sol que \"+buscarPlaneta)\n",
    "print(planetas[indicePlanetas+1:])"
   ]
  }
 ],
 "metadata": {
  "interpreter": {
   "hash": "a12d694c3ccac42055183a0ad11e659c6a2db5c6555ad2c8919d5814fd4e404f"
  },
  "kernelspec": {
   "display_name": "Python 3.9.1 64-bit",
   "language": "python",
   "name": "python3"
  },
  "language_info": {
   "codemirror_mode": {
    "name": "ipython",
    "version": 3
   },
   "file_extension": ".py",
   "mimetype": "text/x-python",
   "name": "python",
   "nbconvert_exporter": "python",
   "pygments_lexer": "ipython3",
   "version": "3.9.1"
  },
  "orig_nbformat": 4
 },
 "nbformat": 4,
 "nbformat_minor": 2
}
