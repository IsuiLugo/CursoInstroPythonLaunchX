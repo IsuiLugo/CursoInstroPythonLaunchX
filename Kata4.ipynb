{
 "cells": [
  {
   "cell_type": "markdown",
   "metadata": {},
   "source": [
    "# Kata 4 🚀\n",
    "Transformar cadenas 👨‍🚀  \n",
    "Ejercicio 1  "
   ]
  },
  {
   "cell_type": "code",
   "execution_count": null,
   "metadata": {},
   "outputs": [],
   "source": [
    "text = \"Interesting facts about the Moon. The Moon is Earth's only satellite. There are several interesting facts about the Moon and how it affects life here on Earth On average, the Moon moves 4cm away from the Earth every year. This yearly drift is not significant enough to cause immediate effects on Earth. The high\"\n",
    "text_partes = text.split(',')\n",
    "text_partes\n",
    "\n",
    "# Palabras clave\n",
    "key_words = [\"average\",\"temprature\",\"distance\"]\n",
    "\n",
    "for sentence in text_partes:\n",
    "    for key_words in key_words:\n",
    "        if key_words in sentence:\n",
    "            print(sentence)\n",
    "            break\n",
    "\n",
    "\n",
    "for sentence in text_partes:\n",
    "    for key_word in key_word:\n",
    "        if key_word in sentence:\n",
    "            print(sentence.replace(' C',' Celsius'))\n",
    "            break"
   ]
  },
  {
   "cell_type": "markdown",
   "metadata": {},
   "source": [
    "Ejercicio 2 👨‍🚀"
   ]
  },
  {
   "cell_type": "code",
   "execution_count": null,
   "metadata": {},
   "outputs": [
    {
     "name": "stdout",
     "output_type": "stream",
     "text": [
      "-------------------------------------------------------------------------------- Nombre del planeta: Marte Gravedad en Gaminides: 3721.0 m/s2 \n"
     ]
    }
   ],
   "source": [
    "planeta = \"Marte\"\n",
    "gravedad = 3.721\n",
    "nombre = \"Gaminides\"\n",
    "\n",
    "title = f'datos de grabedad de {nombre}'\n",
    "\n",
    "hechos = f\"\"\"{'-'*80} Nombre del planeta: {planeta} Gravedad en {nombre}: {gravedad*1000} m/s2 \"\"\"\n",
    "\n",
    "\n",
    "template = f\"\"\"{title.title()}{hechos}\"\"\"\n",
    "print(hechos)\n",
    "\n",
    "planeta = 'Marte'\n",
    "gravedad = 3.721\n",
    "nombre = \"Ganimides\""
   ]
  }
 ],
 "metadata": {
  "interpreter": {
   "hash": "a12d694c3ccac42055183a0ad11e659c6a2db5c6555ad2c8919d5814fd4e404f"
  },
  "kernelspec": {
   "display_name": "Python 3.9.1 64-bit",
   "language": "python",
   "name": "python3"
  },
  "language_info": {
   "codemirror_mode": {
    "name": "ipython",
    "version": 3
   },
   "file_extension": ".py",
   "mimetype": "text/x-python",
   "name": "python",
   "nbconvert_exporter": "python",
   "pygments_lexer": "ipython3",
   "version": "3.9.1"
  },
  "orig_nbformat": 4
 },
 "nbformat": 4,
 "nbformat_minor": 2
}
