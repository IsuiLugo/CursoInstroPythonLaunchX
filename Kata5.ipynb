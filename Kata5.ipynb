{
 "cells": [
  {
   "cell_type": "markdown",
   "metadata": {},
   "source": [
    "# Kata 5 🚀\n",
    "### Operadores aritmeticos\n",
    "Ejercicio 👨‍🚀"
   ]
  },
  {
   "cell_type": "code",
   "execution_count": null,
   "metadata": {},
   "outputs": [],
   "source": [
    "earth = 149597870\n",
    "jupiter = 778547200\n",
    "\n",
    "# Distancia entre los planetas\n",
    "\n",
    "distance = jupiter - earth\n",
    "print(\"La distancia en Kilometros: \"+ str(distance))\n",
    "\n",
    "distance2 = distance * 0.621\n",
    "print(\"La distancia de mi: \"+ str(distance2))"
   ]
  },
  {
   "cell_type": "markdown",
   "metadata": {},
   "source": [
    "Ejercicio 2 👨‍🚀"
   ]
  },
  {
   "cell_type": "code",
   "execution_count": 2,
   "metadata": {},
   "outputs": [
    {
     "ename": "ValueError",
     "evalue": "invalid literal for int() with base 10: ''",
     "output_type": "error",
     "traceback": [
      "\u001b[1;31m---------------------------------------------------------------------------\u001b[0m",
      "\u001b[1;31mValueError\u001b[0m                                Traceback (most recent call last)",
      "\u001b[1;32mc:\\Users\\hp\\Documents\\Developer\\LaunchX\\Onboarding\\Kata5.ipynb Cell 4'\u001b[0m in \u001b[0;36m<module>\u001b[1;34m\u001b[0m\n\u001b[0;32m      <a href='vscode-notebook-cell:/c%3A/Users/hp/Documents/Developer/LaunchX/Onboarding/Kata5.ipynb#ch0000003?line=2'>3</a>\u001b[0m planeta2 \u001b[39m=\u001b[39m \u001b[39minput\u001b[39m(\u001b[39m\"\u001b[39m\u001b[39mDistancia del sol con respecto al planeta 2 en Km\u001b[39m\u001b[39m\"\u001b[39m)\n\u001b[0;32m      <a href='vscode-notebook-cell:/c%3A/Users/hp/Documents/Developer/LaunchX/Onboarding/Kata5.ipynb#ch0000003?line=4'>5</a>\u001b[0m \u001b[39m# Conversion de datos\u001b[39;00m\n\u001b[1;32m----> <a href='vscode-notebook-cell:/c%3A/Users/hp/Documents/Developer/LaunchX/Onboarding/Kata5.ipynb#ch0000003?line=5'>6</a>\u001b[0m planeta1 \u001b[39m=\u001b[39m \u001b[39mint\u001b[39;49m(planeta1)\n\u001b[0;32m      <a href='vscode-notebook-cell:/c%3A/Users/hp/Documents/Developer/LaunchX/Onboarding/Kata5.ipynb#ch0000003?line=6'>7</a>\u001b[0m planeta2 \u001b[39m=\u001b[39m \u001b[39mint\u001b[39m(planeta2)\n\u001b[0;32m      <a href='vscode-notebook-cell:/c%3A/Users/hp/Documents/Developer/LaunchX/Onboarding/Kata5.ipynb#ch0000003?line=8'>9</a>\u001b[0m \u001b[39m# Distancia\u001b[39;00m\n",
      "\u001b[1;31mValueError\u001b[0m: invalid literal for int() with base 10: ''"
     ]
    }
   ],
   "source": [
    "# Inputs\n",
    "planeta1 = input(\"Distancia del sol con respecto al planeta 1 en Km\")\n",
    "planeta2 = input(\"Distancia del sol con respecto al planeta 2 en Km\")\n",
    "\n",
    "# Conversion de datos\n",
    "planeta1 = int(planeta1)\n",
    "planeta2 = int(planeta2)\n",
    "\n",
    "# Distancia\n",
    "distance = planeta2 - planeta1\n",
    "print(\"La distancia en Km es: \"+str(distance)+\" Km\")\n",
    "\n",
    "# Millas\n",
    "distanceMi = distance*0.621\n",
    "print(\"Lo mismo pero en millas\"+str(abs(distanceMi))+\" Mi\")"
   ]
  }
 ],
 "metadata": {
  "interpreter": {
   "hash": "a12d694c3ccac42055183a0ad11e659c6a2db5c6555ad2c8919d5814fd4e404f"
  },
  "kernelspec": {
   "display_name": "Python 3.9.1 64-bit",
   "language": "python",
   "name": "python3"
  },
  "language_info": {
   "codemirror_mode": {
    "name": "ipython",
    "version": 3
   },
   "file_extension": ".py",
   "mimetype": "text/x-python",
   "name": "python",
   "nbconvert_exporter": "python",
   "pygments_lexer": "ipython3",
   "version": "3.9.1"
  },
  "orig_nbformat": 4
 },
 "nbformat": 4,
 "nbformat_minor": 2
}
