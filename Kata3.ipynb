{
 "cells": [
  {
   "cell_type": "markdown",
   "metadata": {},
   "source": [
    "# Kata 3 🚀\n",
    "### Problema 1 👨‍🚀\n",
    "Añadir el código necesario para crear una variable que guarde la velociadad del asteroide  \n",
    "Escribir una expresion de prueba para calcular si necesita una advertencia.  \n",
    "Agrege las instrucciones que se ejecutan si la expresion de prueba es true o false  "
   ]
  },
  {
   "cell_type": "code",
   "execution_count": 1,
   "metadata": {},
   "outputs": [
    {
     "name": "stdout",
     "output_type": "stream",
     "text": [
      "Todo va bien (por ahora)\n"
     ]
    }
   ],
   "source": [
    "asteroide = 12\n",
    "if asteroide > 25: # símbolo > : mayor que\n",
    "    print(\"¡ALERTA! Los reportes indican un asteroide cerca\");\n",
    "else:\n",
    "    print(\"Todo va bien (por ahora)\");\n"
   ]
  },
  {
   "cell_type": "code",
   "execution_count": 2,
   "metadata": {},
   "outputs": [
    {
     "name": "stdout",
     "output_type": "stream",
     "text": [
      "¡ALERTA! Los reportes indican un asteroide cerca\n"
     ]
    }
   ],
   "source": [
    "# Aquí si viene auxilio 🆘\n",
    "asteroide = 45\n",
    "if asteroide > 25: # símbolo > : mayor que\n",
    "    print(\"¡ALERTA! Los reportes indican un asteroide cerca\");\n",
    "else:\n",
    "    print(\"Todo va bien (por ahora)\");\n"
   ]
  },
  {
   "cell_type": "markdown",
   "metadata": {},
   "source": [
    "### Problema 2 👨‍🚀\n",
    "Agrega el código para crear una variable para un asteroide que viaja a 19 km/s  \n",
    "Escribe varias expresiones de prueba para determinar si puedes ver el rayo de luz desde la tierra  \n",
    "Agrega las instrucciones que se ejecutaran si las expresiones de prueba son TRUE o FALSE  "
   ]
  },
  {
   "cell_type": "code",
   "execution_count": 3,
   "metadata": {},
   "outputs": [
    {
     "name": "stdout",
     "output_type": "stream",
     "text": [
      "¿Sera eso un avión?, No!, es un asteroide\n"
     ]
    }
   ],
   "source": [
    "asteroide = 19;\n",
    "if asteroide <= 19:\n",
    "    print(\"¿Sera eso un avión?, No!, es un asteroide\");\n",
    "else:\n",
    "    print(\"¿Será eso un avión?, No!, es la ISS (International Space Staion)\");"
   ]
  },
  {
   "cell_type": "code",
   "execution_count": 4,
   "metadata": {},
   "outputs": [
    {
     "name": "stdout",
     "output_type": "stream",
     "text": [
      "¿Será eso un avión?, No!, es la ISS (International Space Staion)\n"
     ]
    }
   ],
   "source": [
    "# Aquí el asteroide viaja muy rapido que se confunde con la ISS\n",
    "asteroide = 22;\n",
    "if asteroide <= 19:\n",
    "    print(\"¿Sera eso un avión?, No!, es un asteroide\");\n",
    "else:\n",
    "    print(\"¿Será eso un avión?, No!, es la ISS (International Space Staion)\");"
   ]
  },
  {
   "cell_type": "markdown",
   "metadata": {},
   "source": [
    "### Problema 3 👨‍🚀\n",
    "Agrega el código para crear nuevas variables para la velocidad y el tamaño del asteroide  \n",
    "Para probar eñ código, prueba con varias velocidades y tamaños  \n",
    "Escribe varias expresiones de prueva o combinaciones de espresiones de prueba para determinar qué mensaje se debe enviar a la tierra"
   ]
  },
  {
   "cell_type": "code",
   "execution_count": 6,
   "metadata": {},
   "outputs": [
    {
     "name": "stdout",
     "output_type": "stream",
     "text": [
      "¡ALERTA!, Se acerca un asteroide a la tierra\n"
     ]
    }
   ],
   "source": [
    "velocidad = 10\n",
    "tamaño = 15\n",
    "\n",
    "if velocidad >= 10 and tamaño >= 15:\n",
    "    print(\"¡ALERTA!, Se acerca un asteroide a la tierra\")\n",
    "elif velocidad >= 5:\n",
    "    print(\"¿Será eso un avión?, No! es un asteroide\")\n",
    "elif tamaño >= 10:\n",
    "    print(\"¿Será eso un avión?, no, seguro ha de ser la ISS\")\n",
    "else:\n",
    "    print(\"Mmm, pues nada por ahora\")"
   ]
  }
 ],
 "metadata": {
  "interpreter": {
   "hash": "a12d694c3ccac42055183a0ad11e659c6a2db5c6555ad2c8919d5814fd4e404f"
  },
  "kernelspec": {
   "display_name": "Python 3.9.1 64-bit",
   "language": "python",
   "name": "python3"
  },
  "language_info": {
   "codemirror_mode": {
    "name": "ipython",
    "version": 3
   },
   "file_extension": ".py",
   "mimetype": "text/x-python",
   "name": "python",
   "nbconvert_exporter": "python",
   "pygments_lexer": "ipython3",
   "version": "3.9.1"
  },
  "orig_nbformat": 4
 },
 "nbformat": 4,
 "nbformat_minor": 2
}
